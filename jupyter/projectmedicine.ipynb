{
 "cells": [
  {
   "cell_type": "code",
   "execution_count": 1,
   "id": "68112ee9",
   "metadata": {},
   "outputs": [],
   "source": [
    "import pandas as pd"
   ]
  },
  {
   "cell_type": "code",
   "execution_count": 2,
   "id": "c91f55b9",
   "metadata": {},
   "outputs": [],
   "source": [
    "# Load the data\n",
    "medicines = pd.read_excel('Medicine_description.xlsx')"
   ]
  },
  {
   "cell_type": "code",
   "execution_count": 3,
   "id": "1495705b",
   "metadata": {},
   "outputs": [
    {
     "data": {
      "text/html": [
       "<div>\n",
       "<style scoped>\n",
       "    .dataframe tbody tr th:only-of-type {\n",
       "        vertical-align: middle;\n",
       "    }\n",
       "\n",
       "    .dataframe tbody tr th {\n",
       "        vertical-align: top;\n",
       "    }\n",
       "\n",
       "    .dataframe thead th {\n",
       "        text-align: right;\n",
       "    }\n",
       "</style>\n",
       "<table border=\"1\" class=\"dataframe\">\n",
       "  <thead>\n",
       "    <tr style=\"text-align: right;\">\n",
       "      <th></th>\n",
       "      <th>Name</th>\n",
       "      <th>Reason</th>\n",
       "      <th>Description</th>\n",
       "      <th>Price</th>\n",
       "      <th>Manufacturer Name</th>\n",
       "      <th>Type</th>\n",
       "    </tr>\n",
       "  </thead>\n",
       "  <tbody>\n",
       "    <tr>\n",
       "      <th>0</th>\n",
       "      <td>A CN Gel(Topical) 20gmA CN Soap 75gm</td>\n",
       "      <td>Acne</td>\n",
       "      <td>Mild to moderate acne (spots)</td>\n",
       "      <td>223.42</td>\n",
       "      <td>Glaxo SmithKline Pharmaceuticals Ltd</td>\n",
       "      <td>allopathy</td>\n",
       "    </tr>\n",
       "    <tr>\n",
       "      <th>1</th>\n",
       "      <td>A Ret 0.05% Gel 20gmA Ret 0.1% Gel 20gmA Ret 0...</td>\n",
       "      <td>Acne</td>\n",
       "      <td>A RET 0.025% is a prescription medicine that i...</td>\n",
       "      <td>132.36</td>\n",
       "      <td>Alembic Pharmaceuticals Ltd</td>\n",
       "      <td>allopathy</td>\n",
       "    </tr>\n",
       "    <tr>\n",
       "      <th>2</th>\n",
       "      <td>ACGEL CL NANO Gel 15gm</td>\n",
       "      <td>Acne</td>\n",
       "      <td>It is used to treat acne vulgaris in people 12...</td>\n",
       "      <td>118.00</td>\n",
       "      <td>Glenmark Pharmaceuticals Ltd</td>\n",
       "      <td>allopathy</td>\n",
       "    </tr>\n",
       "    <tr>\n",
       "      <th>3</th>\n",
       "      <td>ACGEL NANO Gel 15gm</td>\n",
       "      <td>Acne</td>\n",
       "      <td>It is used to treat acne vulgaris in people 12...</td>\n",
       "      <td>218.81</td>\n",
       "      <td>Sanofi India  Ltd</td>\n",
       "      <td>allopathy</td>\n",
       "    </tr>\n",
       "    <tr>\n",
       "      <th>4</th>\n",
       "      <td>Acleen 1% Lotion 25ml</td>\n",
       "      <td>Acne</td>\n",
       "      <td>treat the most severe form of acne (nodular ac...</td>\n",
       "      <td>10.96</td>\n",
       "      <td>Sanofi India  Ltd</td>\n",
       "      <td>allopathy</td>\n",
       "    </tr>\n",
       "  </tbody>\n",
       "</table>\n",
       "</div>"
      ],
      "text/plain": [
       "                                                Name Reason  \\\n",
       "0               A CN Gel(Topical) 20gmA CN Soap 75gm   Acne   \n",
       "1  A Ret 0.05% Gel 20gmA Ret 0.1% Gel 20gmA Ret 0...   Acne   \n",
       "2                             ACGEL CL NANO Gel 15gm   Acne   \n",
       "3                                ACGEL NANO Gel 15gm   Acne   \n",
       "4                              Acleen 1% Lotion 25ml   Acne   \n",
       "\n",
       "                                         Description   Price  \\\n",
       "0                      Mild to moderate acne (spots)  223.42   \n",
       "1  A RET 0.025% is a prescription medicine that i...  132.36   \n",
       "2  It is used to treat acne vulgaris in people 12...  118.00   \n",
       "3  It is used to treat acne vulgaris in people 12...  218.81   \n",
       "4  treat the most severe form of acne (nodular ac...   10.96   \n",
       "\n",
       "                      Manufacturer Name       Type  \n",
       "0  Glaxo SmithKline Pharmaceuticals Ltd  allopathy  \n",
       "1           Alembic Pharmaceuticals Ltd  allopathy  \n",
       "2          Glenmark Pharmaceuticals Ltd  allopathy  \n",
       "3                     Sanofi India  Ltd  allopathy  \n",
       "4                     Sanofi India  Ltd  allopathy  "
      ]
     },
     "execution_count": 3,
     "metadata": {},
     "output_type": "execute_result"
    }
   ],
   "source": [
    "# Inspect the first few rows\n",
    "medicines.head()"
   ]
  },
  {
   "cell_type": "code",
   "execution_count": 4,
   "id": "134a6a0b",
   "metadata": {},
   "outputs": [
    {
     "name": "stdout",
     "output_type": "stream",
     "text": [
      "(22479, 6)\n"
     ]
    }
   ],
   "source": [
    "# Check the shape of the dataframe\n",
    "print(medicines.shape)"
   ]
  },
  {
   "cell_type": "code",
   "execution_count": 5,
   "id": "50a3c177",
   "metadata": {},
   "outputs": [
    {
     "name": "stdout",
     "output_type": "stream",
     "text": [
      "Name                 0\n",
      "Reason               0\n",
      "Description          0\n",
      "Price                0\n",
      "Manufacturer Name    0\n",
      "Type                 0\n",
      "dtype: int64\n"
     ]
    }
   ],
   "source": [
    "# Check for missing values\n",
    "print(medicines.isnull().sum())"
   ]
  },
  {
   "cell_type": "code",
   "execution_count": 6,
   "id": "d28386eb",
   "metadata": {},
   "outputs": [],
   "source": [
    "# Drop rows with missing values\n",
    "medicines.dropna(inplace=True)"
   ]
  },
  {
   "cell_type": "code",
   "execution_count": 7,
   "id": "1b6cf2a6",
   "metadata": {},
   "outputs": [
    {
     "name": "stdout",
     "output_type": "stream",
     "text": [
      "0\n"
     ]
    }
   ],
   "source": [
    "# Check for duplicate rows\n",
    "print(medicines.duplicated().sum())"
   ]
  },
  {
   "cell_type": "code",
   "execution_count": 8,
   "id": "29e10408",
   "metadata": {},
   "outputs": [
    {
     "data": {
      "text/plain": [
       "0                            Mild to moderate acne (spots)\n",
       "1        A RET 0.025% is a prescription medicine that i...\n",
       "2        It is used to treat acne vulgaris in people 12...\n",
       "3        It is used to treat acne vulgaris in people 12...\n",
       "4        treat the most severe form of acne (nodular ac...\n",
       "                               ...                        \n",
       "22474                              used for treating warts\n",
       "22475                        used to soften the skin cells\n",
       "22476                                       used for scars\n",
       "22477                                      used for wounds\n",
       "22478    used to treat and remove raised warts (usually...\n",
       "Name: Description, Length: 22479, dtype: object"
      ]
     },
     "execution_count": 8,
     "metadata": {},
     "output_type": "execute_result"
    }
   ],
   "source": [
    "medicines['Description']"
   ]
  },
  {
   "cell_type": "code",
   "execution_count": 9,
   "id": "1788fb28",
   "metadata": {},
   "outputs": [],
   "source": [
    "# Tokenize the 'Description' and 'Reason' columns\n",
    "medicines['Description'] = medicines['Description'].apply(lambda x: x.split())\n",
    "medicines['Reason'] = medicines['Reason'].apply(lambda x: x.split())"
   ]
  },
  {
   "cell_type": "code",
   "execution_count": 10,
   "id": "6d18d6bf",
   "metadata": {},
   "outputs": [],
   "source": [
    "# Remove spaces in the tokens\n",
    "medicines['Description'] = medicines['Description'].apply(lambda x: [i.replace(\" \", \"\") for i in x])\n",
    "medicines['Reason'] = medicines['Reason'].apply(lambda x: [i.replace(\" \", \"\") for i in x])"
   ]
  },
  {
   "cell_type": "code",
   "execution_count": 11,
   "id": "c264a859",
   "metadata": {},
   "outputs": [],
   "source": [
    "# Create a new column 'tags' by combining 'Description' and 'Reason'\n",
    "medicines['tags'] = medicines['Description'] + medicines['Reason']"
   ]
  },
  {
   "cell_type": "code",
   "execution_count": 12,
   "id": "24e19004",
   "metadata": {},
   "outputs": [],
   "source": [
    "# Create a new dataframe with selected columns\n",
    "new_df = medicines[['Name', 'Reason', 'tags']]"
   ]
  },
  {
   "cell_type": "code",
   "execution_count": 13,
   "id": "16b27f12",
   "metadata": {},
   "outputs": [
    {
     "name": "stderr",
     "output_type": "stream",
     "text": [
      "C:\\Users\\bandl\\AppData\\Local\\Temp\\ipykernel_20916\\1720400810.py:2: SettingWithCopyWarning: \n",
      "A value is trying to be set on a copy of a slice from a DataFrame.\n",
      "Try using .loc[row_indexer,col_indexer] = value instead\n",
      "\n",
      "See the caveats in the documentation: https://pandas.pydata.org/pandas-docs/stable/user_guide/indexing.html#returning-a-view-versus-a-copy\n",
      "  new_df['tags'] = new_df['tags'].apply(lambda x: \" \".join(x))\n"
     ]
    }
   ],
   "source": [
    "# Combine the tags into a single string\n",
    "new_df['tags'] = new_df['tags'].apply(lambda x: \" \".join(x))"
   ]
  },
  {
   "cell_type": "code",
   "execution_count": 14,
   "id": "368316d1",
   "metadata": {},
   "outputs": [
    {
     "name": "stderr",
     "output_type": "stream",
     "text": [
      "C:\\Users\\bandl\\AppData\\Local\\Temp\\ipykernel_20916\\3418351250.py:2: SettingWithCopyWarning: \n",
      "A value is trying to be set on a copy of a slice from a DataFrame.\n",
      "Try using .loc[row_indexer,col_indexer] = value instead\n",
      "\n",
      "See the caveats in the documentation: https://pandas.pydata.org/pandas-docs/stable/user_guide/indexing.html#returning-a-view-versus-a-copy\n",
      "  new_df['tags'] = new_df['tags'].apply(lambda x: x.lower())\n"
     ]
    }
   ],
   "source": [
    "# Convert the tags to lowercase\n",
    "new_df['tags'] = new_df['tags'].apply(lambda x: x.lower())"
   ]
  },
  {
   "cell_type": "code",
   "execution_count": 15,
   "id": "86a7838b",
   "metadata": {},
   "outputs": [],
   "source": [
    "# Stem the words in the tags\n",
    "import nltk\n",
    "from nltk.stem.porter import PorterStemmer\n",
    "ps = PorterStemmer()\n"
   ]
  },
  {
   "cell_type": "code",
   "execution_count": 16,
   "id": "aa7985ce",
   "metadata": {},
   "outputs": [],
   "source": [
    "def stem(text):\n",
    "    y = []\n",
    "    for i in text.split():\n",
    "        y.append(ps.stem(i))\n",
    "    return \" \".join(y)"
   ]
  },
  {
   "cell_type": "code",
   "execution_count": 17,
   "id": "1317d43d",
   "metadata": {},
   "outputs": [
    {
     "name": "stderr",
     "output_type": "stream",
     "text": [
      "C:\\Users\\bandl\\AppData\\Local\\Temp\\ipykernel_20916\\3213734980.py:1: SettingWithCopyWarning: \n",
      "A value is trying to be set on a copy of a slice from a DataFrame.\n",
      "Try using .loc[row_indexer,col_indexer] = value instead\n",
      "\n",
      "See the caveats in the documentation: https://pandas.pydata.org/pandas-docs/stable/user_guide/indexing.html#returning-a-view-versus-a-copy\n",
      "  new_df['tags'] = new_df['tags'].apply(stem)\n"
     ]
    }
   ],
   "source": [
    "new_df['tags'] = new_df['tags'].apply(stem)"
   ]
  },
  {
   "cell_type": "code",
   "execution_count": 18,
   "id": "cced7f77",
   "metadata": {},
   "outputs": [],
   "source": [
    "# Vectorize the tags\n",
    "from sklearn.feature_extraction.text import CountVectorizer\n",
    "cv = CountVectorizer(stop_words='english', max_features=5000)\n",
    "vectors = cv.fit_transform(new_df['tags']).toarray()"
   ]
  },
  {
   "cell_type": "code",
   "execution_count": 19,
   "id": "f7fb67a5",
   "metadata": {},
   "outputs": [],
   "source": [
    "# Calculate the cosine similarity\n",
    "from sklearn.metrics.pairwise import cosine_similarity\n",
    "similarity = cosine_similarity(vectors)"
   ]
  },
  {
   "cell_type": "code",
   "execution_count": 20,
   "id": "0482af37",
   "metadata": {},
   "outputs": [],
   "source": [
    "# Function to recommend medicines\n",
    "def recommend(medicine):\n",
    "    medicine_index = new_df[new_df['Name'] == medicine].index[0]\n",
    "    distances = similarity[medicine_index]\n",
    "    medicines_list = sorted(list(enumerate(distances)), reverse=True, key=lambda x: x[1])[1:6]\n",
    "\n",
    "    for i in medicines_list:\n",
    "        print(new_df.iloc[i[0]].Name)"
   ]
  },
  {
   "cell_type": "code",
   "execution_count": 21,
   "id": "9812a9c4",
   "metadata": {},
   "outputs": [
    {
     "name": "stdout",
     "output_type": "stream",
     "text": [
      "Acne UV Gel 60gm\n",
      "Acnerex Soap 75gm\n",
      "Acneril 1% Gel 10gmAcneril Tablet 10Acneril 0.10% Cream 20gm\n",
      "Acnezyl Gel(Topical) 10gm\n",
      "Acnicin Gel 15gmAcnicin 1/1% Solution 25ml\n"
     ]
    }
   ],
   "source": [
    "# Example recommendation\n",
    "recommend(\"Acnerex Soap 75gm\")"
   ]
  },
  {
   "cell_type": "code",
   "execution_count": 22,
   "id": "76dc4f9f",
   "metadata": {},
   "outputs": [
    {
     "name": "stdout",
     "output_type": "stream",
     "text": [
      "Aclene 0.10% Gel 15gm\n",
      "Acnay Gel 10gm\n",
      "Acnelak Clz Cream 15gm\n",
      "Acnelak Z Lotion 15gm\n",
      "Acnemoist Cream 60gm\n"
     ]
    }
   ],
   "source": [
    "recommend(\"Acleen 1% Lotion 25ml\")"
   ]
  },
  {
   "cell_type": "code",
   "execution_count": 23,
   "id": "1e0e1283",
   "metadata": {},
   "outputs": [
    {
     "name": "stdout",
     "output_type": "stream",
     "text": [
      "Geriflam 100/20mg Capsule 10'S\n",
      "Glenpar 500mg Tablet 10'S\n",
      "Goldpar MR 4/50mg Tablet 10'S\n",
      "Gufidol 100mg Injection 1'S\n",
      "Healdase P Tablet 10'S\n"
     ]
    }
   ],
   "source": [
    "recommend(\"Paracetamol 125mg Syrup 60mlParacetamol 500mg Tablet 10'S\")"
   ]
  },
  {
   "cell_type": "code",
   "execution_count": null,
   "id": "28ff0530",
   "metadata": {},
   "outputs": [],
   "source": []
  }
 ],
 "metadata": {
  "kernelspec": {
   "display_name": "Python 3 (ipykernel)",
   "language": "python",
   "name": "python3"
  },
  "language_info": {
   "codemirror_mode": {
    "name": "ipython",
    "version": 3
   },
   "file_extension": ".py",
   "mimetype": "text/x-python",
   "name": "python",
   "nbconvert_exporter": "python",
   "pygments_lexer": "ipython3",
   "version": "3.11.7"
  }
 },
 "nbformat": 4,
 "nbformat_minor": 5
}
